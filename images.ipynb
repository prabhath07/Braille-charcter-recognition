{
 "cells": [
  {
   "cell_type": "code",
   "execution_count": 1,
   "source": [
    "import os\r\n",
    "from shutil import copyfile "
   ],
   "outputs": [],
   "metadata": {}
  },
  {
   "cell_type": "code",
   "execution_count": 25,
   "source": [
    "os.mkdir('./images/')\r\n",
    "alpha = 'a'\r\n",
    "for i in range(0, 26): \r\n",
    "    os.mkdir('./images/' + alpha)\r\n",
    "    alpha = chr(ord(alpha) + 1)\r\n"
   ],
   "outputs": [],
   "metadata": {}
  },
  {
   "cell_type": "code",
   "execution_count": 26,
   "source": [
    "\r\n",
    "rootdir = 'Braille Dataset/Braille Dataset/'\r\n",
    "for file in os.listdir(rootdir):\r\n",
    "    letter = file[0]\r\n",
    "    copyfile(rootdir+file, './images/' + letter + '/' + file)"
   ],
   "outputs": [],
   "metadata": {}
  }
 ],
 "metadata": {
  "orig_nbformat": 4,
  "language_info": {
   "name": "python",
   "version": "3.7.10",
   "mimetype": "text/x-python",
   "codemirror_mode": {
    "name": "ipython",
    "version": 3
   },
   "pygments_lexer": "ipython3",
   "nbconvert_exporter": "python",
   "file_extension": ".py"
  },
  "kernelspec": {
   "name": "python3",
   "display_name": "Python 3.7.10 64-bit ('deeplearning': conda)"
  },
  "interpreter": {
   "hash": "1910d8dd2ad1b217d4d5d21df35379bbdc1e35539664a4d522caaf8125694c5f"
  }
 },
 "nbformat": 4,
 "nbformat_minor": 2
}